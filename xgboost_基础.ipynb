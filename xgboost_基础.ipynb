{
 "cells": [
  {
   "cell_type": "code",
   "execution_count": 1,
   "metadata": {
    "collapsed": true
   },
   "outputs": [],
   "source": [
    "import numpy as np\n",
    "import pandas as pd\n",
    "import matplotlib.pyplot as plt\n",
    "import xgboost as xgb\n",
    "\n",
    "%matplotlib inline"
   ]
  },
  {
   "cell_type": "code",
   "execution_count": 2,
   "metadata": {},
   "outputs": [
    {
     "name": "stdout",
     "output_type": "stream",
     "text": [
      "agg.shape: (80000, 31)\n"
     ]
    },
    {
     "data": {
      "text/html": [
       "<div>\n",
       "<style>\n",
       "    .dataframe thead tr:only-child th {\n",
       "        text-align: right;\n",
       "    }\n",
       "\n",
       "    .dataframe thead th {\n",
       "        text-align: left;\n",
       "    }\n",
       "\n",
       "    .dataframe tbody tr th {\n",
       "        vertical-align: top;\n",
       "    }\n",
       "</style>\n",
       "<table border=\"1\" class=\"dataframe\">\n",
       "  <thead>\n",
       "    <tr style=\"text-align: right;\">\n",
       "      <th></th>\n",
       "      <th>V1</th>\n",
       "      <th>V2</th>\n",
       "      <th>V3</th>\n",
       "      <th>V4</th>\n",
       "      <th>V5</th>\n",
       "      <th>V6</th>\n",
       "      <th>V7</th>\n",
       "      <th>V8</th>\n",
       "      <th>V9</th>\n",
       "      <th>V10</th>\n",
       "      <th>...</th>\n",
       "      <th>V22</th>\n",
       "      <th>V23</th>\n",
       "      <th>V24</th>\n",
       "      <th>V25</th>\n",
       "      <th>V26</th>\n",
       "      <th>V27</th>\n",
       "      <th>V28</th>\n",
       "      <th>V29</th>\n",
       "      <th>V30</th>\n",
       "      <th>USRID</th>\n",
       "    </tr>\n",
       "  </thead>\n",
       "  <tbody>\n",
       "    <tr>\n",
       "      <th>0</th>\n",
       "      <td>-1.92554</td>\n",
       "      <td>-0.90689</td>\n",
       "      <td>-1.26634</td>\n",
       "      <td>0.2892</td>\n",
       "      <td>-0.68454</td>\n",
       "      <td>-1.70618</td>\n",
       "      <td>-0.29641</td>\n",
       "      <td>-0.18761</td>\n",
       "      <td>-0.48351</td>\n",
       "      <td>-0.53051</td>\n",
       "      <td>...</td>\n",
       "      <td>0.15815</td>\n",
       "      <td>-0.16201</td>\n",
       "      <td>0.4762</td>\n",
       "      <td>-0.55917</td>\n",
       "      <td>-0.77398</td>\n",
       "      <td>-0.25708</td>\n",
       "      <td>-0.27221</td>\n",
       "      <td>-0.51336</td>\n",
       "      <td>-0.32438</td>\n",
       "      <td>14233</td>\n",
       "    </tr>\n",
       "    <tr>\n",
       "      <th>1</th>\n",
       "      <td>-1.92554</td>\n",
       "      <td>-0.90689</td>\n",
       "      <td>-1.26634</td>\n",
       "      <td>0.2892</td>\n",
       "      <td>-0.68454</td>\n",
       "      <td>-1.70618</td>\n",
       "      <td>0.37601</td>\n",
       "      <td>-0.10030</td>\n",
       "      <td>-0.16694</td>\n",
       "      <td>-0.31897</td>\n",
       "      <td>...</td>\n",
       "      <td>0.15815</td>\n",
       "      <td>-0.16201</td>\n",
       "      <td>0.4762</td>\n",
       "      <td>-0.50058</td>\n",
       "      <td>-0.77398</td>\n",
       "      <td>-0.25708</td>\n",
       "      <td>-0.37907</td>\n",
       "      <td>-0.52723</td>\n",
       "      <td>-0.32438</td>\n",
       "      <td>790</td>\n",
       "    </tr>\n",
       "    <tr>\n",
       "      <th>2</th>\n",
       "      <td>-1.92554</td>\n",
       "      <td>-0.90689</td>\n",
       "      <td>-1.26634</td>\n",
       "      <td>0.2892</td>\n",
       "      <td>-0.68454</td>\n",
       "      <td>-1.57176</td>\n",
       "      <td>0.03980</td>\n",
       "      <td>-0.17089</td>\n",
       "      <td>-0.38610</td>\n",
       "      <td>-0.46000</td>\n",
       "      <td>...</td>\n",
       "      <td>0.15815</td>\n",
       "      <td>-0.16201</td>\n",
       "      <td>0.4762</td>\n",
       "      <td>-0.55127</td>\n",
       "      <td>-0.77398</td>\n",
       "      <td>-0.25708</td>\n",
       "      <td>-0.57113</td>\n",
       "      <td>-0.54758</td>\n",
       "      <td>-0.32438</td>\n",
       "      <td>82308</td>\n",
       "    </tr>\n",
       "    <tr>\n",
       "      <th>3</th>\n",
       "      <td>-1.92554</td>\n",
       "      <td>-0.90689</td>\n",
       "      <td>-1.26634</td>\n",
       "      <td>0.2892</td>\n",
       "      <td>-0.68454</td>\n",
       "      <td>-1.30291</td>\n",
       "      <td>-0.29641</td>\n",
       "      <td>-0.18761</td>\n",
       "      <td>-0.45916</td>\n",
       "      <td>-0.53051</td>\n",
       "      <td>...</td>\n",
       "      <td>0.15815</td>\n",
       "      <td>-0.16201</td>\n",
       "      <td>0.4762</td>\n",
       "      <td>-0.26154</td>\n",
       "      <td>-0.77398</td>\n",
       "      <td>0.23440</td>\n",
       "      <td>-0.32873</td>\n",
       "      <td>-0.51951</td>\n",
       "      <td>-0.32438</td>\n",
       "      <td>90325</td>\n",
       "    </tr>\n",
       "    <tr>\n",
       "      <th>4</th>\n",
       "      <td>-1.92554</td>\n",
       "      <td>-0.90689</td>\n",
       "      <td>-1.26634</td>\n",
       "      <td>0.2892</td>\n",
       "      <td>-0.68454</td>\n",
       "      <td>-1.16849</td>\n",
       "      <td>-0.29641</td>\n",
       "      <td>-0.18761</td>\n",
       "      <td>-0.50786</td>\n",
       "      <td>-0.60103</td>\n",
       "      <td>...</td>\n",
       "      <td>0.15815</td>\n",
       "      <td>-0.16201</td>\n",
       "      <td>0.4762</td>\n",
       "      <td>-0.55917</td>\n",
       "      <td>-0.77398</td>\n",
       "      <td>-0.25708</td>\n",
       "      <td>-0.57910</td>\n",
       "      <td>-0.54884</td>\n",
       "      <td>-0.32438</td>\n",
       "      <td>71893</td>\n",
       "    </tr>\n",
       "  </tbody>\n",
       "</table>\n",
       "<p>5 rows × 31 columns</p>\n",
       "</div>"
      ],
      "text/plain": [
       "        V1       V2       V3      V4       V5       V6       V7       V8  \\\n",
       "0 -1.92554 -0.90689 -1.26634  0.2892 -0.68454 -1.70618 -0.29641 -0.18761   \n",
       "1 -1.92554 -0.90689 -1.26634  0.2892 -0.68454 -1.70618  0.37601 -0.10030   \n",
       "2 -1.92554 -0.90689 -1.26634  0.2892 -0.68454 -1.57176  0.03980 -0.17089   \n",
       "3 -1.92554 -0.90689 -1.26634  0.2892 -0.68454 -1.30291 -0.29641 -0.18761   \n",
       "4 -1.92554 -0.90689 -1.26634  0.2892 -0.68454 -1.16849 -0.29641 -0.18761   \n",
       "\n",
       "        V9      V10  ...        V22      V23     V24      V25      V26  \\\n",
       "0 -0.48351 -0.53051  ...    0.15815 -0.16201  0.4762 -0.55917 -0.77398   \n",
       "1 -0.16694 -0.31897  ...    0.15815 -0.16201  0.4762 -0.50058 -0.77398   \n",
       "2 -0.38610 -0.46000  ...    0.15815 -0.16201  0.4762 -0.55127 -0.77398   \n",
       "3 -0.45916 -0.53051  ...    0.15815 -0.16201  0.4762 -0.26154 -0.77398   \n",
       "4 -0.50786 -0.60103  ...    0.15815 -0.16201  0.4762 -0.55917 -0.77398   \n",
       "\n",
       "       V27      V28      V29      V30  USRID  \n",
       "0 -0.25708 -0.27221 -0.51336 -0.32438  14233  \n",
       "1 -0.25708 -0.37907 -0.52723 -0.32438    790  \n",
       "2 -0.25708 -0.57113 -0.54758 -0.32438  82308  \n",
       "3  0.23440 -0.32873 -0.51951 -0.32438  90325  \n",
       "4 -0.25708 -0.57910 -0.54884 -0.32438  71893  \n",
       "\n",
       "[5 rows x 31 columns]"
      ]
     },
     "execution_count": 2,
     "metadata": {},
     "output_type": "execute_result"
    }
   ],
   "source": [
    "# 读取数据\n",
    "agg = pd.read_csv(\"data/agg.csv\",header=0,sep=\"\\t\")\n",
    "print(\"agg.shape:\",agg.shape)\n",
    "agg.head()"
   ]
  },
  {
   "cell_type": "code",
   "execution_count": 3,
   "metadata": {},
   "outputs": [
    {
     "name": "stdout",
     "output_type": "stream",
     "text": [
      "flg.shape: (80000, 2)\n"
     ]
    },
    {
     "data": {
      "text/html": [
       "<div>\n",
       "<style>\n",
       "    .dataframe thead tr:only-child th {\n",
       "        text-align: right;\n",
       "    }\n",
       "\n",
       "    .dataframe thead th {\n",
       "        text-align: left;\n",
       "    }\n",
       "\n",
       "    .dataframe tbody tr th {\n",
       "        vertical-align: top;\n",
       "    }\n",
       "</style>\n",
       "<table border=\"1\" class=\"dataframe\">\n",
       "  <thead>\n",
       "    <tr style=\"text-align: right;\">\n",
       "      <th></th>\n",
       "      <th>USRID</th>\n",
       "      <th>FLAG</th>\n",
       "    </tr>\n",
       "  </thead>\n",
       "  <tbody>\n",
       "    <tr>\n",
       "      <th>0</th>\n",
       "      <td>0</td>\n",
       "      <td>0</td>\n",
       "    </tr>\n",
       "    <tr>\n",
       "      <th>1</th>\n",
       "      <td>35</td>\n",
       "      <td>0</td>\n",
       "    </tr>\n",
       "    <tr>\n",
       "      <th>2</th>\n",
       "      <td>42</td>\n",
       "      <td>0</td>\n",
       "    </tr>\n",
       "    <tr>\n",
       "      <th>3</th>\n",
       "      <td>76</td>\n",
       "      <td>0</td>\n",
       "    </tr>\n",
       "    <tr>\n",
       "      <th>4</th>\n",
       "      <td>77</td>\n",
       "      <td>0</td>\n",
       "    </tr>\n",
       "  </tbody>\n",
       "</table>\n",
       "</div>"
      ],
      "text/plain": [
       "   USRID  FLAG\n",
       "0      0     0\n",
       "1     35     0\n",
       "2     42     0\n",
       "3     76     0\n",
       "4     77     0"
      ]
     },
     "execution_count": 3,
     "metadata": {},
     "output_type": "execute_result"
    }
   ],
   "source": [
    "flg = pd.read_csv(\"data/flg.csv\",header=0,sep=\"\\t\")\n",
    "print(\"flg.shape:\",flg.shape)\n",
    "flg.head()"
   ]
  },
  {
   "cell_type": "code",
   "execution_count": 4,
   "metadata": {},
   "outputs": [
    {
     "data": {
      "text/plain": [
       "0    76824\n",
       "1     3176\n",
       "Name: FLAG, dtype: int64"
      ]
     },
     "execution_count": 4,
     "metadata": {},
     "output_type": "execute_result"
    }
   ],
   "source": [
    "# 正负样本比例\n",
    "flg['FLAG'].value_counts()"
   ]
  },
  {
   "cell_type": "code",
   "execution_count": 5,
   "metadata": {},
   "outputs": [
    {
     "name": "stdout",
     "output_type": "stream",
     "text": [
      "(80000, 30)\n",
      "(80000,)\n"
     ]
    }
   ],
   "source": [
    "data = pd.merge(agg,flg,on='USRID')\n",
    "\n",
    "usrid = data.pop('USRID')\n",
    "y = data.pop('FLAG').values\n",
    "X = data.values\n",
    "print(X.shape)\n",
    "print(y.shape)"
   ]
  },
  {
   "cell_type": "code",
   "execution_count": 6,
   "metadata": {},
   "outputs": [
    {
     "name": "stdout",
     "output_type": "stream",
     "text": [
      "训练集合的正样本数： 2406\n",
      "测试集合的正样本数： 770\n"
     ]
    }
   ],
   "source": [
    "#简单划分train / test set\n",
    "from sklearn.model_selection import train_test_split\n",
    "X_train, X_test, y_train, y_test = train_test_split(X , y, test_size=0.25, random_state=0)\n",
    "print(\"训练集合的正样本数：\",len(np.where(y_train==1)[0]))\n",
    "print(\"测试集合的正样本数：\",len(np.where(y_test==1)[0]))"
   ]
  },
  {
   "cell_type": "code",
   "execution_count": 7,
   "metadata": {},
   "outputs": [
    {
     "name": "stdout",
     "output_type": "stream",
     "text": [
      "test set roc =  0.748643218456\n"
     ]
    }
   ],
   "source": [
    "# 简单示例\n",
    "\n",
    "from sklearn.metrics import roc_auc_score\n",
    "\n",
    "# 1.构造数据结构\n",
    "dtrain = xgb.DMatrix(X_train, label = y_train)\n",
    "dtest = xgb.DMatrix(X_test, label = y_test)\n",
    "\n",
    "# 2.参数设置\n",
    "params = {'max_depth':6, \n",
    "         'eta':0.1, \n",
    "         'silent':1, \n",
    "         'objective':'binary:logistic'\n",
    "        }\n",
    "# 3.xgb训练\n",
    "xgb_model = xgb.train(params, dtrain,num_boost_round = 200)\n",
    "\n",
    "# 4.xgb预测,返回概率！！！！！！！！！！！！\n",
    "preds = xgb_model.predict(dtest)\n",
    "\n",
    "# 5.评测模型\n",
    "roc = roc_auc_score(y_test,preds)\n",
    "\n",
    "print(\"test set roc = \",roc)\n"
   ]
  },
  {
   "cell_type": "code",
   "execution_count": 8,
   "metadata": {},
   "outputs": [
    {
     "data": {
      "text/plain": [
       "<matplotlib.axes._subplots.AxesSubplot at 0xbe2e748>"
      ]
     },
     "execution_count": 8,
     "metadata": {},
     "output_type": "execute_result"
    },
    {
     "data": {
      "image/png": "[encoded data removed]",
      "text/plain": [
       "<matplotlib.figure.Figure at 0x2831da0>"
      ]
     },
     "metadata": {},
     "output_type": "display_data"
    }
   ],
   "source": [
    "# 绘制特征重要性\n",
    "xgb.plot_importance(xgb_model,title='Feature importance', xlabel='F score', ylabel='Features', importance_type='weight',grid=False)\n"
   ]
  },
  {
   "cell_type": "code",
   "execution_count": 9,
   "metadata": {},
   "outputs": [
    {
     "name": "stdout",
     "output_type": "stream",
     "text": [
      "[0]\ttrain-auc:0.731031\n",
      "[1]\ttrain-auc:0.741721\n",
      "[2]\ttrain-auc:0.749164\n",
      "[3]\ttrain-auc:0.754293\n",
      "[4]\ttrain-auc:0.756713\n",
      "[5]\ttrain-auc:0.757836\n",
      "[6]\ttrain-auc:0.760257\n",
      "[7]\ttrain-auc:0.766009\n",
      "[8]\ttrain-auc:0.768055\n",
      "[9]\ttrain-auc:0.770998\n",
      "[10]\ttrain-auc:0.773373\n",
      "[11]\ttrain-auc:0.773672\n",
      "[12]\ttrain-auc:0.77621\n",
      "[13]\ttrain-auc:0.777681\n",
      "[14]\ttrain-auc:0.778925\n",
      "[15]\ttrain-auc:0.779926\n",
      "[16]\ttrain-auc:0.781876\n",
      "[17]\ttrain-auc:0.784303\n",
      "[18]\ttrain-auc:0.786366\n",
      "[19]\ttrain-auc:0.788976\n",
      "[20]\ttrain-auc:0.791631\n",
      "[21]\ttrain-auc:0.793583\n",
      "[22]\ttrain-auc:0.795265\n",
      "[23]\ttrain-auc:0.796422\n",
      "[24]\ttrain-auc:0.797781\n",
      "[25]\ttrain-auc:0.79902\n",
      "[26]\ttrain-auc:0.800906\n",
      "[27]\ttrain-auc:0.802205\n",
      "[28]\ttrain-auc:0.804381\n",
      "[29]\ttrain-auc:0.806031\n",
      "[30]\ttrain-auc:0.807906\n",
      "[31]\ttrain-auc:0.810557\n",
      "[32]\ttrain-auc:0.812231\n",
      "[33]\ttrain-auc:0.814388\n",
      "[34]\ttrain-auc:0.81625\n",
      "[35]\ttrain-auc:0.817877\n",
      "[36]\ttrain-auc:0.81884\n",
      "[37]\ttrain-auc:0.819511\n",
      "[38]\ttrain-auc:0.82117\n",
      "[39]\ttrain-auc:0.823443\n",
      "[40]\ttrain-auc:0.8261\n",
      "[41]\ttrain-auc:0.827417\n",
      "[42]\ttrain-auc:0.830081\n",
      "[43]\ttrain-auc:0.833008\n",
      "[44]\ttrain-auc:0.834756\n",
      "[45]\ttrain-auc:0.835778\n",
      "[46]\ttrain-auc:0.838094\n",
      "[47]\ttrain-auc:0.839396\n",
      "[48]\ttrain-auc:0.841331\n",
      "[49]\ttrain-auc:0.842661\n"
     ]
    }
   ],
   "source": [
    "# 想要观察性能，可以改成\n",
    "\n",
    "# 观察train set 的训练效果\n",
    "evallist = [(dtrain,'train')]\n",
    "\n",
    "# 指定参数评价指标\n",
    "params['eval_metric'] = ['auc'] \n",
    "\n",
    "xgb_model = xgb.train(params, dtrain,num_boost_round = 50,evals = evallist, verbose_eval=True)\n"
   ]
  },
  {
   "cell_type": "code",
   "execution_count": 10,
   "metadata": {},
   "outputs": [
    {
     "name": "stdout",
     "output_type": "stream",
     "text": [
      "[0]\ttrain-auc:0.731031\teval-auc:0.724641\n",
      "Multiple eval metrics have been passed: 'eval-auc' will be used for early stopping.\n",
      "\n",
      "Will train until eval-auc hasn't improved in 10 rounds.\n",
      "[1]\ttrain-auc:0.741721\teval-auc:0.727228\n",
      "[2]\ttrain-auc:0.749164\teval-auc:0.731779\n",
      "[3]\ttrain-auc:0.754293\teval-auc:0.733311\n",
      "[4]\ttrain-auc:0.756713\teval-auc:0.731859\n",
      "[5]\ttrain-auc:0.757836\teval-auc:0.732481\n",
      "[6]\ttrain-auc:0.760257\teval-auc:0.735033\n",
      "[7]\ttrain-auc:0.766009\teval-auc:0.736881\n",
      "[8]\ttrain-auc:0.768055\teval-auc:0.7381\n",
      "[9]\ttrain-auc:0.770998\teval-auc:0.738075\n",
      "[10]\ttrain-auc:0.773373\teval-auc:0.74052\n",
      "[11]\ttrain-auc:0.773672\teval-auc:0.742814\n",
      "[12]\ttrain-auc:0.77621\teval-auc:0.743384\n",
      "[13]\ttrain-auc:0.777681\teval-auc:0.743472\n",
      "[14]\ttrain-auc:0.778925\teval-auc:0.743148\n",
      "[15]\ttrain-auc:0.779926\teval-auc:0.742392\n",
      "[16]\ttrain-auc:0.781876\teval-auc:0.742975\n",
      "[17]\ttrain-auc:0.784303\teval-auc:0.741598\n",
      "[18]\ttrain-auc:0.786366\teval-auc:0.742212\n",
      "[19]\ttrain-auc:0.788976\teval-auc:0.742909\n",
      "[20]\ttrain-auc:0.791631\teval-auc:0.742515\n",
      "[21]\ttrain-auc:0.793583\teval-auc:0.742409\n",
      "[22]\ttrain-auc:0.795265\teval-auc:0.741141\n",
      "[23]\ttrain-auc:0.796422\teval-auc:0.740092\n",
      "Stopping. Best iteration:\n",
      "[13]\ttrain-auc:0.777681\teval-auc:0.743472\n",
      "\n"
     ]
    }
   ],
   "source": [
    "# 加入验证集合,可以观察性能（+ 提前停止 ）\n",
    "\n",
    "# 1.构造数据结构\n",
    "dtrain = xgb.DMatrix(X_train, label = y_train)\n",
    "dtest = xgb.DMatrix(X_test, label = y_test)\n",
    "\n",
    "# 2.参数设置\n",
    "params = {'max_depth':6, \n",
    "         'eta':0.1, \n",
    "         'silent':1, \n",
    "         'objective':'binary:logistic'\n",
    "        }\n",
    "\n",
    "# 指定验证集观察性能\n",
    "evallist = [ (dtrain,'train'),(dtest,'eval')]\n",
    "\n",
    "# 指定参数评价指标\n",
    "params['eval_metric'] = ['auc'] \n",
    "\n",
    "# 3.xgb训练，加入早停, 按照最后一个集合 eval-auc 实现早停\n",
    "xgb_model = xgb.train(params, dtrain,\n",
    "                      num_boost_round = 50, \n",
    "                      evals = evallist,\n",
    "                      early_stopping_rounds=10,\n",
    "                      verbose_eval=True)\n"
   ]
  },
  {
   "cell_type": "code",
   "execution_count": 11,
   "metadata": {},
   "outputs": [
    {
     "name": "stdout",
     "output_type": "stream",
     "text": [
      "[0]\ttrain-auc:0.72137\ttest-auc:0.699629\n",
      "Multiple eval metrics have been passed: 'test-auc' will be used for early stopping.\n",
      "\n",
      "Will train until test-auc hasn't improved in 3 rounds.\n",
      "[1]\ttrain-auc:0.731048\ttest-auc:0.707138\n",
      "[2]\ttrain-auc:0.739926\ttest-auc:0.714707\n",
      "[3]\ttrain-auc:0.751026\ttest-auc:0.723035\n",
      "[4]\ttrain-auc:0.759215\ttest-auc:0.7275\n",
      "[5]\ttrain-auc:0.76259\ttest-auc:0.730267\n",
      "[6]\ttrain-auc:0.767243\ttest-auc:0.732724\n",
      "[7]\ttrain-auc:0.77002\ttest-auc:0.733564\n",
      "[8]\ttrain-auc:0.771459\ttest-auc:0.734444\n",
      "[9]\ttrain-auc:0.775569\ttest-auc:0.736709\n",
      "[10]\ttrain-auc:0.778854\ttest-auc:0.737133\n",
      "[11]\ttrain-auc:0.780681\ttest-auc:0.73694\n",
      "[12]\ttrain-auc:0.78301\ttest-auc:0.737656\n",
      "[13]\ttrain-auc:0.786128\ttest-auc:0.737393\n",
      "[14]\ttrain-auc:0.787593\ttest-auc:0.737303\n",
      "[15]\ttrain-auc:0.789461\ttest-auc:0.737403\n",
      "Stopping. Best iteration:\n",
      "[12]\ttrain-auc:0.78301+0.00191871\ttest-auc:0.737656+0.00125595\n",
      "\n"
     ]
    },
    {
     "data": {
      "text/html": [
       "<div>\n",
       "<style>\n",
       "    .dataframe thead tr:only-child th {\n",
       "        text-align: right;\n",
       "    }\n",
       "\n",
       "    .dataframe thead th {\n",
       "        text-align: left;\n",
       "    }\n",
       "\n",
       "    .dataframe tbody tr th {\n",
       "        vertical-align: top;\n",
       "    }\n",
       "</style>\n",
       "<table border=\"1\" class=\"dataframe\">\n",
       "  <thead>\n",
       "    <tr style=\"text-align: right;\">\n",
       "      <th></th>\n",
       "      <th>test-auc-mean</th>\n",
       "      <th>test-auc-std</th>\n",
       "      <th>train-auc-mean</th>\n",
       "      <th>train-auc-std</th>\n",
       "    </tr>\n",
       "  </thead>\n",
       "  <tbody>\n",
       "    <tr>\n",
       "      <th>0</th>\n",
       "      <td>0.699629</td>\n",
       "      <td>0.006040</td>\n",
       "      <td>0.721370</td>\n",
       "      <td>0.002909</td>\n",
       "    </tr>\n",
       "    <tr>\n",
       "      <th>1</th>\n",
       "      <td>0.707138</td>\n",
       "      <td>0.011290</td>\n",
       "      <td>0.731048</td>\n",
       "      <td>0.007491</td>\n",
       "    </tr>\n",
       "    <tr>\n",
       "      <th>2</th>\n",
       "      <td>0.714707</td>\n",
       "      <td>0.012592</td>\n",
       "      <td>0.739926</td>\n",
       "      <td>0.011651</td>\n",
       "    </tr>\n",
       "    <tr>\n",
       "      <th>3</th>\n",
       "      <td>0.723035</td>\n",
       "      <td>0.003014</td>\n",
       "      <td>0.751026</td>\n",
       "      <td>0.006190</td>\n",
       "    </tr>\n",
       "    <tr>\n",
       "      <th>4</th>\n",
       "      <td>0.727500</td>\n",
       "      <td>0.003132</td>\n",
       "      <td>0.759215</td>\n",
       "      <td>0.005000</td>\n",
       "    </tr>\n",
       "    <tr>\n",
       "      <th>5</th>\n",
       "      <td>0.730267</td>\n",
       "      <td>0.004332</td>\n",
       "      <td>0.762590</td>\n",
       "      <td>0.004799</td>\n",
       "    </tr>\n",
       "    <tr>\n",
       "      <th>6</th>\n",
       "      <td>0.732724</td>\n",
       "      <td>0.000996</td>\n",
       "      <td>0.767243</td>\n",
       "      <td>0.004232</td>\n",
       "    </tr>\n",
       "    <tr>\n",
       "      <th>7</th>\n",
       "      <td>0.733564</td>\n",
       "      <td>0.001628</td>\n",
       "      <td>0.770020</td>\n",
       "      <td>0.003561</td>\n",
       "    </tr>\n",
       "    <tr>\n",
       "      <th>8</th>\n",
       "      <td>0.734444</td>\n",
       "      <td>0.000600</td>\n",
       "      <td>0.771459</td>\n",
       "      <td>0.003926</td>\n",
       "    </tr>\n",
       "    <tr>\n",
       "      <th>9</th>\n",
       "      <td>0.736709</td>\n",
       "      <td>0.001885</td>\n",
       "      <td>0.775569</td>\n",
       "      <td>0.002666</td>\n",
       "    </tr>\n",
       "    <tr>\n",
       "      <th>10</th>\n",
       "      <td>0.737133</td>\n",
       "      <td>0.001942</td>\n",
       "      <td>0.778854</td>\n",
       "      <td>0.002576</td>\n",
       "    </tr>\n",
       "    <tr>\n",
       "      <th>11</th>\n",
       "      <td>0.736940</td>\n",
       "      <td>0.001605</td>\n",
       "      <td>0.780681</td>\n",
       "      <td>0.002061</td>\n",
       "    </tr>\n",
       "    <tr>\n",
       "      <th>12</th>\n",
       "      <td>0.737656</td>\n",
       "      <td>0.001256</td>\n",
       "      <td>0.783010</td>\n",
       "      <td>0.001919</td>\n",
       "    </tr>\n",
       "  </tbody>\n",
       "</table>\n",
       "</div>"
      ],
      "text/plain": [
       "    test-auc-mean  test-auc-std  train-auc-mean  train-auc-std\n",
       "0        0.699629      0.006040        0.721370       0.002909\n",
       "1        0.707138      0.011290        0.731048       0.007491\n",
       "2        0.714707      0.012592        0.739926       0.011651\n",
       "3        0.723035      0.003014        0.751026       0.006190\n",
       "4        0.727500      0.003132        0.759215       0.005000\n",
       "5        0.730267      0.004332        0.762590       0.004799\n",
       "6        0.732724      0.000996        0.767243       0.004232\n",
       "7        0.733564      0.001628        0.770020       0.003561\n",
       "8        0.734444      0.000600        0.771459       0.003926\n",
       "9        0.736709      0.001885        0.775569       0.002666\n",
       "10       0.737133      0.001942        0.778854       0.002576\n",
       "11       0.736940      0.001605        0.780681       0.002061\n",
       "12       0.737656      0.001256        0.783010       0.001919"
      ]
     },
     "execution_count": 11,
     "metadata": {},
     "output_type": "execute_result"
    }
   ],
   "source": [
    "# cv函数\n",
    "# do cross validation, this will print result out as\n",
    "# [iteration]  metric_name:mean_value\n",
    "\n",
    "xgb.cv(params, dtrain, \n",
    "             num_boost_round=50, \n",
    "             nfold=3,\n",
    "             metrics={'auc'},\n",
    "             callbacks=[xgb.callback.print_evaluation(show_stdv=False),\n",
    "                        xgb.callback.early_stop(3)]\n",
    "             )"
   ]
  },
  {
   "cell_type": "code",
   "execution_count": 12,
   "metadata": {},
   "outputs": [
    {
     "name": "stdout",
     "output_type": "stream",
     "text": [
      "test set roc =  0.748643218456\n"
     ]
    }
   ],
   "source": [
    "# Scikit-Learn 的 API\n",
    "\n",
    "# 设置参数\n",
    "param_list = {\n",
    "    'max_depth':6, \n",
    "    'learning_rate':0.1, \n",
    "    'n_estimators':200,\n",
    "    'silent':True, \n",
    "    'objective':'binary:logistic',\n",
    "}\n",
    "clf = xgb.XGBClassifier(**param_list)\n",
    "# 训练\n",
    "clf.fit(X_train, y_train)\n",
    "\n",
    "# 预测,正类的概率！！！！！！！！！！！！！\n",
    "preds = clf.predict_proba(X_test)[:,1]\n",
    "\n",
    "# 评估\n",
    "roc = roc_auc_score(y_test,preds)\n",
    "\n",
    "print(\"test set roc = \",roc)\n"
   ]
  },
  {
   "cell_type": "code",
   "execution_count": 13,
   "metadata": {},
   "outputs": [
    {
     "name": "stdout",
     "output_type": "stream",
     "text": [
      "[0]\tvalidation_0-auc:0.731031\tvalidation_1-auc:0.724641\n",
      "Multiple eval metrics have been passed: 'validation_1-auc' will be used for early stopping.\n",
      "\n",
      "Will train until validation_1-auc hasn't improved in 10 rounds.\n",
      "[1]\tvalidation_0-auc:0.741721\tvalidation_1-auc:0.727228\n",
      "[2]\tvalidation_0-auc:0.749164\tvalidation_1-auc:0.731779\n",
      "[3]\tvalidation_0-auc:0.754293\tvalidation_1-auc:0.733311\n",
      "[4]\tvalidation_0-auc:0.756713\tvalidation_1-auc:0.731859\n",
      "[5]\tvalidation_0-auc:0.757836\tvalidation_1-auc:0.732481\n",
      "[6]\tvalidation_0-auc:0.760257\tvalidation_1-auc:0.735033\n",
      "[7]\tvalidation_0-auc:0.766009\tvalidation_1-auc:0.736881\n",
      "[8]\tvalidation_0-auc:0.768055\tvalidation_1-auc:0.7381\n",
      "[9]\tvalidation_0-auc:0.770998\tvalidation_1-auc:0.738075\n",
      "[10]\tvalidation_0-auc:0.773373\tvalidation_1-auc:0.74052\n",
      "[11]\tvalidation_0-auc:0.773672\tvalidation_1-auc:0.742814\n",
      "[12]\tvalidation_0-auc:0.77621\tvalidation_1-auc:0.743384\n",
      "[13]\tvalidation_0-auc:0.777681\tvalidation_1-auc:0.743472\n",
      "[14]\tvalidation_0-auc:0.778925\tvalidation_1-auc:0.743148\n",
      "[15]\tvalidation_0-auc:0.779926\tvalidation_1-auc:0.742392\n",
      "[16]\tvalidation_0-auc:0.781876\tvalidation_1-auc:0.742975\n",
      "[17]\tvalidation_0-auc:0.784303\tvalidation_1-auc:0.741598\n",
      "[18]\tvalidation_0-auc:0.786366\tvalidation_1-auc:0.742212\n",
      "[19]\tvalidation_0-auc:0.788976\tvalidation_1-auc:0.742909\n",
      "[20]\tvalidation_0-auc:0.791631\tvalidation_1-auc:0.742515\n",
      "[21]\tvalidation_0-auc:0.793583\tvalidation_1-auc:0.742409\n",
      "[22]\tvalidation_0-auc:0.795265\tvalidation_1-auc:0.741141\n",
      "[23]\tvalidation_0-auc:0.796422\tvalidation_1-auc:0.740092\n",
      "Stopping. Best iteration:\n",
      "[13]\tvalidation_0-auc:0.777681\tvalidation_1-auc:0.743472\n",
      "\n"
     ]
    },
    {
     "data": {
      "text/plain": [
       "XGBClassifier(base_score=0.5, booster='gbtree', colsample_bylevel=1,\n",
       "       colsample_bytree=1, gamma=0, learning_rate=0.1, max_delta_step=0,\n",
       "       max_depth=6, min_child_weight=1, missing=None, n_estimators=50,\n",
       "       n_jobs=1, nthread=None, objective='binary:logistic', random_state=0,\n",
       "       reg_alpha=0, reg_lambda=1, scale_pos_weight=1, seed=None, silent=1,\n",
       "       subsample=1)"
      ]
     },
     "execution_count": 13,
     "metadata": {},
     "output_type": "execute_result"
    }
   ],
   "source": [
    "# 有验证集合的时候，加入早停\n",
    "\n",
    "# 设置参数\n",
    "param_list = {\n",
    "    'max_depth':6, \n",
    "    'learning_rate':0.1, \n",
    "    'n_estimators':50,\n",
    "    'silent':1, \n",
    "    'objective':'binary:logistic',\n",
    "}\n",
    "clf = xgb.XGBClassifier(**param_list)\n",
    "clf.fit(X_train, y_train, \n",
    "        early_stopping_rounds=10, \n",
    "        eval_metric=\"auc\",\n",
    "        eval_set=[(X_train, y_train),(X_test, y_test)],\n",
    "        verbose=True\n",
    "       )\n"
   ]
  },
  {
   "cell_type": "code",
   "execution_count": 14,
   "metadata": {},
   "outputs": [
    {
     "name": "stdout",
     "output_type": "stream",
     "text": [
      "test set roc =  0.740091611457\n"
     ]
    }
   ],
   "source": [
    "# 请注意 train() 将从上一次迭代中返回一个模型, 而不是最好的一个.！！！！\n",
    "# 所以这里是  迭代23次  的结果！！！！！！\n",
    "\n",
    "# 预测,正类的概率\n",
    "preds = clf.predict_proba(X_test)[:,1]\n",
    "\n",
    "# 评估\n",
    "roc = roc_auc_score(y_test,preds)\n",
    "\n",
    "print(\"test set roc = \",roc)"
   ]
  },
  {
   "cell_type": "code",
   "execution_count": 15,
   "metadata": {},
   "outputs": [
    {
     "name": "stdout",
     "output_type": "stream",
     "text": [
      "test set roc =  0.74347205057\n"
     ]
    }
   ],
   "source": [
    "# 获得最好的模型效果,  13次迭代  ！！！！！！\n",
    "\n",
    "# 预测,正类的概率\n",
    "preds = clf.predict_proba(X_test,ntree_limit=clf.best_ntree_limit)[:,1]\n",
    "\n",
    "# 评估\n",
    "roc = roc_auc_score(y_test,preds)\n",
    "\n",
    "print(\"test set roc = \",roc)"
   ]
  },
  {
   "cell_type": "code",
   "execution_count": null,
   "metadata": {
    "collapsed": true
   },
   "outputs": [],
   "source": []
  },
  {
   "cell_type": "code",
   "execution_count": null,
   "metadata": {
    "collapsed": true
   },
   "outputs": [],
   "source": []
  },
  {
   "cell_type": "code",
   "execution_count": 44,
   "metadata": {},
   "outputs": [
    {
     "name": "stdout",
     "output_type": "stream",
     "text": [
      "test set roc =  0.748675263894\n"
     ]
    }
   ],
   "source": [
    "# 网格超参数调节\n",
    "# 1.初始参数效果 \n",
    "\n",
    "# 设置初始化参数\n",
    "param_list = {\n",
    "    # 通用参数\n",
    "    'booster':'gbtree',       # gbtree：基于树的模型 ，gbliner：线性模型\n",
    "    'nthread':-1,             # 进行多线程控制，-1自动检验全部的cpu核数\n",
    "    'silent':1,               # 参数值为1时，静默模式开启，不会输出任何信息\n",
    "    # booster参数\n",
    "    'learning_rate':0.1,      # 默认 ：0.3 ，典型：0.01-0.2\n",
    "    'max_depth':6,            # 默认：6，典型：3-10，树的最大深度，避免过拟合的。max_depth越大，模型会学到更具体更局部的样本。\n",
    "    'min_child_weight':1,     # 默认：1，最小叶子节点样本权重和，避免过拟合。当它的值较大时，可以避免模型学习到局部的特殊样本\n",
    "    'gamma':0,                # 默认：0，分裂后损失函数的值下降了，才会分裂这个节点。Gamma指定了节点分裂所需的最小损失函数下降值\n",
    "    'subsample':0.8,          # 默认：1，典型：0.5-1.控制对于每棵树，随机采样的比例。减小这个参数的值，算法会更加保守，避免过拟合\n",
    "    'colsample_bytree':0.8,      # 默认：1,控制每棵随机采样的列数的占比(每一列是一个特征)\n",
    "    'reg_alpha':0,            # 默认：0,权重的L1正则化项\n",
    "    'reg_lambda':1,           # 默认：1,权重的L2正则化项\n",
    "    'scale_pos_weight':1,     # 默认：0,在各类别样本十分不平衡时，把这个参数设定为一个正值，可以使算法更快收敛\n",
    "    # 学习目标参数\n",
    "    'objective':'binary:logistic', # binary:logistic 二分类的逻辑回归，返回预测的概率(不是类别)。\n",
    "    'eval_metric':'auc',           # 度量方法\n",
    "    'seed':0,                      # 随机数的种子\n",
    "    # 命令行参数\n",
    "    'n_estimators':200             # 迭代次数\n",
    "}\n",
    "clf = xgb.XGBClassifier(**param_list)\n",
    "# 训练\n",
    "clf.fit(X_train, y_train)\n",
    "\n",
    "# 预测,正类的概率\n",
    "preds = clf.predict_proba(X_test)[:,1]\n",
    "\n",
    "# 评估\n",
    "roc = roc_auc_score(y_test,preds)\n",
    "\n",
    "print(\"test set roc = \",roc)\n"
   ]
  },
  {
   "cell_type": "code",
   "execution_count": 49,
   "metadata": {},
   "outputs": [
    {
     "name": "stdout",
     "output_type": "stream",
     "text": [
      "Fitting 3 folds for each of 5 candidates, totalling 15 fits\n"
     ]
    },
    {
     "name": "stderr",
     "output_type": "stream",
     "text": [
      "[Parallel(n_jobs=4)]: Done  15 out of  15 | elapsed:  3.0min finished\n"
     ]
    },
    {
     "name": "stdout",
     "output_type": "stream",
     "text": [
      "参数的最佳取值：{'n_estimators': 100}\n",
      "最佳模型得分:0.7533039233184186\n"
     ]
    }
   ],
   "source": [
    "# 2.最佳迭代次数：n_estimators\n",
    "from sklearn.model_selection import GridSearchCV\n",
    "\n",
    "cv_params = {'n_estimators': [50,100,150,200,250]}\n",
    "\n",
    "model = xgb.XGBClassifier(**param_list)\n",
    "gs = GridSearchCV(estimator=model, param_grid=cv_params,scoring = 'roc_auc',n_jobs = 4,cv = 3,verbose=1)\n",
    "gs.fit(X_train,y_train)\n",
    "print('参数的最佳取值：{0}'.format(gs.best_params_))\n",
    "print('最佳模型得分:{0}'.format(gs.best_score_))\n"
   ]
  },
  {
   "cell_type": "code",
   "execution_count": 50,
   "metadata": {},
   "outputs": [
    {
     "name": "stdout",
     "output_type": "stream",
     "text": [
      "Fitting 3 folds for each of 64 candidates, totalling 192 fits\n"
     ]
    },
    {
     "name": "stderr",
     "output_type": "stream",
     "text": [
      "[Parallel(n_jobs=4)]: Done  42 tasks      | elapsed:  2.8min\n",
      "[Parallel(n_jobs=4)]: Done 192 out of 192 | elapsed: 21.9min finished\n"
     ]
    },
    {
     "name": "stdout",
     "output_type": "stream",
     "text": [
      "参数的最佳取值：{'max_depth': 4, 'min_child_weight': 8}\n",
      "最佳模型得分:0.7603068846271653\n"
     ]
    }
   ],
   "source": [
    "# 3.min_child_weight以及max_depth参数调优\n",
    "\n",
    "# !!!!!之前一定修改上次调优的参数\n",
    "param_list['n_estimators'] = 100\n",
    "\n",
    "cv_params = {'max_depth': [3, 4, 5, 6, 7, 8, 9, 10], \n",
    "             'min_child_weight': [1, 2, 3, 4, 5, 6, 7, 8]\n",
    "            }\n",
    "model = xgb.XGBClassifier(**param_list)\n",
    "gs = GridSearchCV(estimator=model, param_grid=cv_params,scoring = 'roc_auc',n_jobs = 4,cv = 3,verbose=1)\n",
    "gs.fit(X_train,y_train)\n",
    "print('参数的最佳取值：{0}'.format(gs.best_params_))\n",
    "print('最佳模型得分:{0}'.format(gs.best_score_))\n"
   ]
  },
  {
   "cell_type": "code",
   "execution_count": 52,
   "metadata": {},
   "outputs": [
    {
     "name": "stdout",
     "output_type": "stream",
     "text": [
      "Fitting 3 folds for each of 5 candidates, totalling 15 fits\n"
     ]
    },
    {
     "name": "stderr",
     "output_type": "stream",
     "text": [
      "[Parallel(n_jobs=4)]: Done  15 out of  15 | elapsed:  1.3min finished\n"
     ]
    },
    {
     "name": "stdout",
     "output_type": "stream",
     "text": [
      "参数的最佳取值：{'gamma': 0.1}\n",
      "最佳模型得分:0.760631118751373\n"
     ]
    }
   ],
   "source": [
    "# 4.gamma参数调优\n",
    "\n",
    "# !!!!!之前一定修改上次调优的参数\n",
    "param_list['max_depth'] = 4\n",
    "param_list['min_child_weight'] = 8\n",
    "\n",
    "cv_params = {'gamma': [0, 0.1, 0.2, 0.3, 0.4]}\n",
    "\n",
    "model = xgb.XGBClassifier(**param_list)\n",
    "gs = GridSearchCV(estimator=model, param_grid=cv_params,scoring = 'roc_auc',n_jobs = 4,cv = 3,verbose=1)\n",
    "gs.fit(X_train,y_train)\n",
    "print('参数的最佳取值：{0}'.format(gs.best_params_))\n",
    "print('最佳模型得分:{0}'.format(gs.best_score_))"
   ]
  },
  {
   "cell_type": "code",
   "execution_count": 53,
   "metadata": {},
   "outputs": [
    {
     "name": "stdout",
     "output_type": "stream",
     "text": [
      "Fitting 3 folds for each of 25 candidates, totalling 75 fits\n"
     ]
    },
    {
     "name": "stderr",
     "output_type": "stream",
     "text": [
      "[Parallel(n_jobs=4)]: Done  42 tasks      | elapsed:  3.0min\n",
      "[Parallel(n_jobs=4)]: Done  75 out of  75 | elapsed:  5.7min finished\n"
     ]
    },
    {
     "name": "stdout",
     "output_type": "stream",
     "text": [
      "参数的最佳取值：{'colsample_bytree': 0.8, 'subsample': 0.8}\n",
      "最佳模型得分:0.760631118751373\n"
     ]
    }
   ],
   "source": [
    "# 5.调整subsample 和 colsample_bytree 参数\n",
    "\n",
    "# !!!!!之前一定修改上次调优的参数\n",
    "param_list['gamma'] = 0.1\n",
    "\n",
    "cv_params = {'subsample': [0.6, 0.7, 0.8, 0.9, 1],\n",
    "             'colsample_bytree': [0.6, 0.7, 0.8, 0.9, 1]}\n",
    "\n",
    "model = xgb.XGBClassifier(**param_list)\n",
    "gs = GridSearchCV(estimator=model, param_grid=cv_params,scoring = 'roc_auc',n_jobs = 4,cv = 3,verbose=1)\n",
    "gs.fit(X_train,y_train)\n",
    "print('参数的最佳取值：{0}'.format(gs.best_params_))\n",
    "print('最佳模型得分:{0}'.format(gs.best_score_))"
   ]
  },
  {
   "cell_type": "code",
   "execution_count": 55,
   "metadata": {},
   "outputs": [
    {
     "name": "stdout",
     "output_type": "stream",
     "text": [
      "Fitting 3 folds for each of 8 candidates, totalling 24 fits\n"
     ]
    },
    {
     "name": "stderr",
     "output_type": "stream",
     "text": [
      "[Parallel(n_jobs=4)]: Done  24 out of  24 | elapsed:  1.9min finished\n"
     ]
    },
    {
     "name": "stdout",
     "output_type": "stream",
     "text": [
      "参数的最佳取值：{'reg_alpha': 0}\n",
      "最佳模型得分:0.760631118751373\n"
     ]
    }
   ],
   "source": [
    "# 6.正则化参数调优\n",
    "\n",
    "# !!!!!之前一定修改上次调优的参数\n",
    "param_list['subsample'] = 0.8\n",
    "param_list['colsample_bytree'] = 0.8\n",
    "\n",
    "cv_params = {'reg_alpha': [0,0.001,0.005,0.05, 0.1, 1, 2, 3]}\n",
    "\n",
    "model = xgb.XGBClassifier(**param_list)\n",
    "gs = GridSearchCV(estimator=model, param_grid=cv_params,scoring = 'roc_auc',n_jobs = 4,cv = 3,verbose=1)\n",
    "gs.fit(X_train,y_train)\n",
    "print('参数的最佳取值：{0}'.format(gs.best_params_))\n",
    "print('最佳模型得分:{0}'.format(gs.best_score_))"
   ]
  },
  {
   "cell_type": "code",
   "execution_count": 56,
   "metadata": {},
   "outputs": [
    {
     "name": "stdout",
     "output_type": "stream",
     "text": [
      "Fitting 3 folds for each of 5 candidates, totalling 15 fits\n"
     ]
    },
    {
     "name": "stderr",
     "output_type": "stream",
     "text": [
      "[Parallel(n_jobs=4)]: Done  15 out of  15 | elapsed:  1.2min finished\n"
     ]
    },
    {
     "name": "stdout",
     "output_type": "stream",
     "text": [
      "参数的最佳取值：{'learning_rate': 0.1}\n",
      "最佳模型得分:0.760631118751373\n"
     ]
    }
   ],
   "source": [
    "# 7.降低学习速率\n",
    "# 降低学习率，就需要增大迭代次数\n",
    "\n",
    "param_list['reg_alpha'] = 0\n",
    "\n",
    "cv_params = {'learning_rate': [0.01, 0.05, 0.09, 0.1, 0.2]}\n",
    "\n",
    "model = xgb.XGBClassifier(**param_list)\n",
    "gs = GridSearchCV(estimator=model, param_grid=cv_params,scoring = 'roc_auc',n_jobs = 4,cv = 3,verbose=1)\n",
    "gs.fit(X_train,y_train)\n",
    "print('参数的最佳取值：{0}'.format(gs.best_params_))\n",
    "print('最佳模型得分:{0}'.format(gs.best_score_))"
   ]
  },
  {
   "cell_type": "code",
   "execution_count": 57,
   "metadata": {},
   "outputs": [
    {
     "data": {
      "text/plain": [
       "{'booster': 'gbtree',\n",
       " 'colsample_bytree': 0.8,\n",
       " 'eval_metric': 'auc',\n",
       " 'gamma': 0.1,\n",
       " 'learning_rate': 0.1,\n",
       " 'max_depth': 4,\n",
       " 'min_child_weight': 8,\n",
       " 'n_estimators': 100,\n",
       " 'nthread': -1,\n",
       " 'objective': 'binary:logistic',\n",
       " 'reg_alpha': 0,\n",
       " 'reg_lambda': 1,\n",
       " 'scale_pos_weight': 1,\n",
       " 'seed': 0,\n",
       " 'silent': 1,\n",
       " 'subsample': 0.8}"
      ]
     },
     "execution_count": 57,
     "metadata": {},
     "output_type": "execute_result"
    }
   ],
   "source": [
    "# 最后的最佳参数\n",
    "\n",
    "param_list['learning_rate'] = 0.1\n",
    "param_list"
   ]
  },
  {
   "cell_type": "code",
   "execution_count": 58,
   "metadata": {},
   "outputs": [
    {
     "name": "stdout",
     "output_type": "stream",
     "text": [
      "test set roc =  0.757240951976\n"
     ]
    }
   ],
   "source": [
    "# 最后测试一下\n",
    "\n",
    "clf = xgb.XGBClassifier(**param_list)\n",
    "# 训练\n",
    "clf.fit(X_train, y_train)\n",
    "\n",
    "# 预测,正类的概率\n",
    "preds = clf.predict_proba(X_test)[:,1]\n",
    "\n",
    "# 评估\n",
    "roc = roc_auc_score(y_test,preds)\n",
    "\n",
    "print(\"test set roc = \",roc)\n",
    "\n",
    "# 相比于初始化的参数：0.748675263894 有了提升！！！！！！！！！！！！！"
   ]
  },
  {
   "cell_type": "code",
   "execution_count": null,
   "metadata": {
    "collapsed": true
   },
   "outputs": [],
   "source": []
  }
 ],
 "metadata": {
  "kernelspec": {
   "display_name": "Python 3",
   "language": "python",
   "name": "python3"
  },
  "language_info": {
   "codemirror_mode": {
    "name": "ipython",
    "version": 3
   },
   "file_extension": ".py",
   "mimetype": "text/x-python",
   "name": "python",
   "nbconvert_exporter": "python",
   "pygments_lexer": "ipython3",
   "version": "3.6.3"
  }
 },
 "nbformat": 4,
 "nbformat_minor": 2
}
