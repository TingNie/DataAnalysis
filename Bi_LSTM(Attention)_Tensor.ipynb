{
 "cells": [
  {
   "cell_type": "code",
   "execution_count": 4,
   "metadata": {
    "colab": {
     "base_uri": "https://localhost:8080/",
     "height": 393
    },
    "colab_type": "code",
    "id": "aenHhwSWhMGu",
    "outputId": "7296d0cd-fd1d-4ff7-9312-57d52b05e64d"
   },
   "outputs": [
    {
     "name": "stdout",
     "output_type": "stream",
     "text": [
      "input_batch: [array([13,  4,  0]), array([15,  2,  8]), array([ 6,  1, 14]), array([13, 12,  0]), array([11,  3, 10]), array([7, 9, 5])]\n",
      "target_batch: [array([0., 1.]), array([0., 1.]), array([0., 1.]), array([1., 0.]), array([1., 0.]), array([1., 0.])]\n",
      "Epoch: 001000 cost = 0.001497\n",
      "Epoch: 002000 cost = 0.000338\n",
      "Epoch: 003000 cost = 0.000132\n",
      "Epoch: 004000 cost = 0.000063\n",
      "Epoch: 005000 cost = 0.000033\n",
      "sorry hate you is Bad Mean...\n"
     ]
    },
    {
     "data": {
      "image/png": "[encoded data removed]",
      "text/plain": [
       "<Figure size 432x216 with 1 Axes>"
      ]
     },
     "metadata": {
      "needs_background": "light"
     },
     "output_type": "display_data"
    },
    {
     "name": "stdout",
     "output_type": "stream",
     "text": [
      "attention [[0.6205841  0.23582733 0.14358859]\n",
      " [0.2913372  0.41461518 0.29404762]\n",
      " [0.41089877 0.3261207  0.26298046]\n",
      " [0.00440843 0.07524929 0.92034227]\n",
      " [0.01241719 0.28453106 0.7030518 ]\n",
      " [0.03592721 0.2825245  0.6815483 ]]\n"
     ]
    },
    {
     "data": {
      "text/plain": [
       "'\\n\\n# 3 words sentences (=sequence_length is 3)\\nsentences = [\"i love you\", \"he loves me\", \"she likes baseball\", \"i hate you\", \"sorry for that\", \"this is awful\"]\\nlabels = [1, 1, 1, 0, 0, 0]  # 1 is good, 0 is not good.\\n\\n'"
      ]
     },
     "execution_count": 4,
     "metadata": {},
     "output_type": "execute_result"
    }
   ],
   "source": [
    "'''\n",
    "  code by Tae Hwan Jung(Jeff Jung) @graykode\n",
    "  Reference : https://github.com/prakashpandey9/Text-Classification-Pytorch/blob/master/models/LSTM_Attn.py\n",
    "'''\n",
    "import tensorflow as tf\n",
    "import matplotlib.pyplot as plt\n",
    "import numpy as np\n",
    "%matplotlib inline\n",
    "\n",
    "tf.reset_default_graph()\n",
    "\n",
    "# Bi-LSTM(Attention) Parameters\n",
    "embedding_dim = 2\n",
    "n_hidden = 5 # number of hidden units in one cell\n",
    "n_step = 3 # all sentence is consist of 3 words\n",
    "n_class = 2  # 0 or 1\n",
    "\n",
    "# 3 words sentences (=sequence_length is 3)\n",
    "sentences = [\"i love you\", \"he loves me\", \"she likes baseball\", \"i hate you\", \"sorry for that\", \"this is awful\"]\n",
    "labels = [1, 1, 1, 0, 0, 0]  # 1 is good, 0 is not good.\n",
    "\n",
    "word_list = \" \".join(sentences).split()\n",
    "word_list = list(set(word_list))\n",
    "word_dict = {w: i for i, w in enumerate(word_list)}\n",
    "vocab_size = len(word_dict)\n",
    "\n",
    "input_batch = []\n",
    "for sen in sentences:\n",
    "    input_batch.append(np.asarray([word_dict[n] for n in sen.split()]))\n",
    "print('input_batch:',input_batch)\n",
    "target_batch = []\n",
    "for out in labels:\n",
    "    target_batch.append(np.eye(n_class)[out]) # ONE-HOT : To using Tensor Softmax Loss function\n",
    "print('target_batch:',target_batch)\n",
    "\n",
    "# LSTM Model\n",
    "X = tf.placeholder(tf.int32, [None, n_step])\n",
    "Y = tf.placeholder(tf.int32, [None, n_class])\n",
    "out = tf.Variable(tf.random_normal([n_hidden * 2, n_class]))\n",
    "\n",
    "embedding = tf.Variable(tf.random_uniform([vocab_size, embedding_dim]))\n",
    "input = tf.nn.embedding_lookup(embedding, X) # [batch_size, len_seq, embedding_dim]\n",
    "\n",
    "lstm_fw_cell = tf.nn.rnn_cell.LSTMCell(n_hidden)\n",
    "lstm_bw_cell = tf.nn.rnn_cell.LSTMCell(n_hidden)\n",
    "\n",
    "# output : [batch_size, len_seq, n_hidden], states : [batch_size, n_hidden]\n",
    "output, final_state = tf.nn.bidirectional_dynamic_rnn(lstm_fw_cell,lstm_bw_cell, input, dtype=tf.float32)\n",
    "\n",
    "# Attention\n",
    "output = tf.concat([output[0], output[1]], 2)                             # output[0] : lstm_fw, output[1] : lstm_bw\n",
    "# 最后的隐含层包含记忆单元C，和隐含层H\n",
    "final_hidden_state = tf.concat([final_state[1][0], final_state[1][1]], 1) # final_hidden_state : [batch_size, n_hidden * num_directions(=2)]\n",
    "final_hidden_state = tf.expand_dims(final_hidden_state, 2)                # final_hidden_state : [batch_size, n_hidden * num_directions(=2), 1]\n",
    "# 每一步的权重\n",
    "attn_weights = tf.squeeze(tf.matmul(output, final_hidden_state), 2) # attn_weights : [batch_size, n_step]\n",
    "# 权重在step上归一化，\n",
    "soft_attn_weights = tf.nn.softmax(attn_weights, 1) #  [batch_size, n_step]\n",
    "# 加权求和# context : [batch_size, n_hidden * num_directions(=2), 1]\n",
    "# [batch_size, n_hidden * num_directions(=2), n_step] *  [batch_size, n_step, 1]\n",
    "context = tf.matmul(tf.transpose(output, [0, 2, 1]), tf.expand_dims(soft_attn_weights, 2)) \n",
    "\n",
    "context = tf.squeeze(context, 2) # [batch_size, n_hidden * num_directions(=2)]\n",
    "\n",
    "model = tf.matmul(context, out)\n",
    "\n",
    "cost = tf.reduce_mean(tf.nn.softmax_cross_entropy_with_logits_v2(logits=model, labels=Y))\n",
    "optimizer = tf.train.AdamOptimizer(0.001).minimize(cost)\n",
    "\n",
    "# Model-Predict\n",
    "hypothesis = tf.nn.softmax(model)\n",
    "predictions = tf.argmax(hypothesis, 1)\n",
    "\n",
    "# Training\n",
    "with tf.Session() as sess:\n",
    "    init = tf.global_variables_initializer()\n",
    "    sess.run(init)\n",
    "    for epoch in range(5000):\n",
    "        _, loss, attention = sess.run([optimizer, cost, soft_attn_weights], feed_dict={X: input_batch, Y: target_batch})\n",
    "        if (epoch + 1)%1000 == 0:\n",
    "            print('Epoch:', '%06d' % (epoch + 1), 'cost =', '{:.6f}'.format(loss))\n",
    "\n",
    "    # Test\n",
    "    test_text = 'sorry hate you'\n",
    "    tests = [np.asarray([word_dict[n] for n in test_text.split()])]\n",
    "\n",
    "    predict = sess.run([predictions], feed_dict={X: tests})\n",
    "    result = predict[0][0]\n",
    "    if result == 0:\n",
    "        print(test_text,\"is Bad Mean...\")\n",
    "    else:\n",
    "        print(test_text,\"is Good Mean!!\")\n",
    "\n",
    "    fig = plt.figure(figsize=(6, 3)) # [batch_size, n_step]\n",
    "    ax = fig.add_subplot(1, 1, 1)\n",
    "    ax.matshow(attention, cmap='viridis')\n",
    "    ax.set_xticklabels([''] + ['first_word', 'second_word', 'third_word'], fontdict={'fontsize': 14}, rotation=90)\n",
    "    ax.set_yticklabels([''] + ['batch_1', 'batch_2', 'batch_3', 'batch_4', 'batch_5', 'batch_6'], fontdict={'fontsize': 14})\n",
    "    plt.show()\n",
    "    # 看一下注意力权重\n",
    "    print('attention',attention)\n",
    "    \n",
    "'''\n",
    "\n",
    "# 3 words sentences (=sequence_length is 3)\n",
    "sentences = [\"i love you\", \"he loves me\", \"she likes baseball\", \"i hate you\", \"sorry for that\", \"this is awful\"]\n",
    "labels = [1, 1, 1, 0, 0, 0]  # 1 is good, 0 is not good.\n",
    "\n",
    "'''"
   ]
  },
  {
   "cell_type": "code",
   "execution_count": null,
   "metadata": {},
   "outputs": [],
   "source": []
  }
 ],
 "metadata": {
  "accelerator": "GPU",
  "colab": {
   "collapsed_sections": [],
   "name": "Bi-LSTM(Attention)-Tensor.ipynb",
   "provenance": [],
   "version": "0.3.2"
  },
  "kernelspec": {
   "display_name": "Python 3",
   "language": "python",
   "name": "python3"
  },
  "language_info": {
   "codemirror_mode": {
    "name": "ipython",
    "version": 3
   },
   "file_extension": ".py",
   "mimetype": "text/x-python",
   "name": "python",
   "nbconvert_exporter": "python",
   "pygments_lexer": "ipython3",
   "version": "3.7.3"
  }
 },
 "nbformat": 4,
 "nbformat_minor": 1
}
