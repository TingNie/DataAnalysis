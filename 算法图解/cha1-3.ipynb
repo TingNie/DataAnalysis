{
 "cells": [
  {
   "cell_type": "code",
   "execution_count": 1,
   "metadata": {},
   "outputs": [
    {
     "name": "stdout",
     "output_type": "stream",
     "text": [
      "1\n",
      "None\n"
     ]
    }
   ],
   "source": [
    "# 01_binary_search\n",
    "\n",
    "def binary_search(list, item):\n",
    "    # low and high keep track of which part of the list you'll search in.\n",
    "    low = 0\n",
    "    high = len(list) - 1\n",
    "\n",
    "    # While you haven't narrowed it down to one element ...\n",
    "    while low <= high:\n",
    "        # ... check the middle element\n",
    "        mid = (low + high) // 2\n",
    "        guess = list[mid]\n",
    "        # Found the item.\n",
    "        if guess == item:\n",
    "            return mid # 下标\n",
    "        # The guess was too high.\n",
    "        if guess > item:\n",
    "            high = mid - 1\n",
    "        # The guess was too low.\n",
    "        else:\n",
    "            low = mid + 1\n",
    "        # Item doesn't exist\n",
    "    return None\n",
    "\n",
    "my_list = [1, 3, 5, 7, 9]\n",
    "print(binary_search(my_list, 3)) # => 1\n",
    "\n",
    "# 'None' means nil in Python. We use to indicate that the item wasn't found.\n",
    "print(binary_search(my_list, -1)) # => None"
   ]
  },
  {
   "cell_type": "code",
   "execution_count": 2,
   "metadata": {},
   "outputs": [
    {
     "name": "stdout",
     "output_type": "stream",
     "text": [
      "[2, 3, 5, 6, 10]\n"
     ]
    }
   ],
   "source": [
    "# 02_selection_sort\n",
    "\n",
    "# Finds the smallest value in an array\n",
    "def findSmallest(arr):\n",
    "  # Stores the smallest value\n",
    "  smallest = arr[0]\n",
    "  # Stores the index of the smallest value\n",
    "  smallest_index = 0\n",
    "  for i in range(1, len(arr)):\n",
    "    if arr[i] < smallest:\n",
    "      smallest_index = i\n",
    "      smallest = arr[i]      \n",
    "  return smallest_index\n",
    "\n",
    "# Sort array\n",
    "def selectionSort(arr):\n",
    "  newArr = []\n",
    "  for i in range(len(arr)):\n",
    "      # Finds the smallest element in the array and adds it to the new array\n",
    "      smallest = findSmallest(arr)\n",
    "      newArr.append(arr.pop(smallest)) # list.pop(index = -1)  移除列表中的一个元素（默认最后一个元素），并且返回该元素的值\n",
    "  return newArr\n",
    "\n",
    "print(selectionSort([5, 3, 6, 2, 10]))"
   ]
  },
  {
   "cell_type": "code",
   "execution_count": 3,
   "metadata": {},
   "outputs": [
    {
     "name": "stdout",
     "output_type": "stream",
     "text": [
      "5\n",
      "4\n",
      "3\n",
      "2\n",
      "1\n",
      "0\n"
     ]
    }
   ],
   "source": [
    "# 03_recursion 递归\n",
    "# 如果使用循环，程序的性能可能更高；如果使用递归，程序可能更容易理解。\n",
    "# 如何选择要看什么对你来说更重要。\n",
    "def countdown(i):\n",
    "  print(i)\n",
    "  # base case ,基线条件:函数不再调用自己，从而避免形成无限循环\n",
    "  if i <= 0:\n",
    "    return\n",
    "  # recursive case ，递归条件：函数调用自己\n",
    "  else:\n",
    "    countdown(i-1)\n",
    "\n",
    "countdown(5)"
   ]
  },
  {
   "cell_type": "code",
   "execution_count": 4,
   "metadata": {},
   "outputs": [
    {
     "name": "stdout",
     "output_type": "stream",
     "text": [
      "120\n"
     ]
    }
   ],
   "source": [
    "def fact(x):\n",
    "    if x == 1:\n",
    "        return 1\n",
    "    else:\n",
    "        return x * fact(x-1)\n",
    "\n",
    "print(fact(5))"
   ]
  },
  {
   "cell_type": "code",
   "execution_count": 5,
   "metadata": {},
   "outputs": [
    {
     "name": "stdout",
     "output_type": "stream",
     "text": [
      "5*4*3*2*1\n"
     ]
    }
   ],
   "source": [
    "def fact(x,s):\n",
    "    s = s + str(x) + '*'\n",
    "    if x == 1:\n",
    "        s = s[:-1] # 删除结尾\n",
    "        print(s)\n",
    "    else:\n",
    "        fact(x-1,s)\n",
    "    \n",
    "\n",
    "fact(5,s = '')"
   ]
  },
  {
   "cell_type": "code",
   "execution_count": null,
   "metadata": {
    "collapsed": true
   },
   "outputs": [],
   "source": []
  }
 ],
 "metadata": {
  "kernelspec": {
   "display_name": "Python 3",
   "language": "python",
   "name": "python3"
  },
  "language_info": {
   "codemirror_mode": {
    "name": "ipython",
    "version": 3
   },
   "file_extension": ".py",
   "mimetype": "text/x-python",
   "name": "python",
   "nbconvert_exporter": "python",
   "pygments_lexer": "ipython3",
   "version": "3.6.3"
  }
 },
 "nbformat": 4,
 "nbformat_minor": 2
}
