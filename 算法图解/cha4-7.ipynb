{
 "cells": [
  {
   "cell_type": "code",
   "execution_count": 1,
   "metadata": {},
   "outputs": [
    {
     "name": "stdout",
     "output_type": "stream",
     "text": [
      "75\n"
     ]
    }
   ],
   "source": [
    "# 04_quicksort，分而治之divide and conquer，D&C + 快速排序\n",
    "\n",
    "def sum_(list):\n",
    "  if list == []: # 基线条件\n",
    "    return 0\n",
    "  return list[0] + sum_(list[1:]) # 递归条件\n",
    "\n",
    "print(sum_([1,2,3,4,5,10,50]))"
   ]
  },
  {
   "cell_type": "code",
   "execution_count": 2,
   "metadata": {},
   "outputs": [
    {
     "name": "stdout",
     "output_type": "stream",
     "text": [
      "[2, 3, 5, 10]\n"
     ]
    }
   ],
   "source": [
    "def quicksort(array):\n",
    "  if len(array) < 2:\n",
    "    # base case, arrays with 0 or 1 element are already \"sorted\"\n",
    "    return array\n",
    "  else:\n",
    "    # recursive case\n",
    "    pivot = array[0] # 基准值，可以随机选择。决定了运行时间，假如选取的永远是最大或最小值,为最差情况\n",
    "    # sub-array of all the elements less than the pivot\n",
    "    less = [i for i in array[1:] if i <= pivot]\n",
    "    # sub-array of all the elements greater than the pivot\n",
    "    greater = [i for i in array[1:] if i > pivot]\n",
    "    # 左边的小数组 + 基准值 + 右边的大数组\n",
    "    return quicksort(less) + [pivot] + quicksort(greater)\n",
    "\n",
    "print(quicksort([10, 5, 2, 3]))"
   ]
  },
  {
   "cell_type": "code",
   "execution_count": 3,
   "metadata": {
    "collapsed": true
   },
   "outputs": [],
   "source": [
    "'''\n",
    "快速查找的常量比合并查找小，因此如果它们的运行时间都为O (nlogn)，快速查找的速度将更快。\n",
    "实际上，快速查找的速度确实更快，因为相对于遇上最糟情况，它遇上平均情况的可能性要大得多。\n",
    "\n",
    "1.快速排序：\n",
    "（最糟糕的情况）：调用栈O(n)层 * 每层O(n)个元素 = O(n**2)\n",
    "快速排序的性能高度依赖于你选择的基准值。假设你总是将第一个元素用作基准值，\n",
    "且要处理的数组是有序的。由于快速排序算法不检查输入数组是否有序，因此它依然尝试对其进行排序。\n",
    "\n",
    "（最佳的情况）：调用栈O(logn)层 * 每层O(n)个元素 = O(nlogn)\n",
    "因为你每次都将数组分成两半，所以不需要那么多递归调用。\n",
    "你很快就到达了基线条件，因此调用栈短得多。\n",
    "\n",
    "'''\n",
    "pass"
   ]
  },
  {
   "cell_type": "code",
   "execution_count": 4,
   "metadata": {},
   "outputs": [
    {
     "name": "stdout",
     "output_type": "stream",
     "text": [
      "let them vote!\n",
      "let them vote!\n",
      "kick them out!\n",
      "let them vote!\n",
      "let them vote!\n",
      "kick them out!\n"
     ]
    }
   ],
   "source": [
    "# 05_hash_tables\n",
    "'''\n",
    "结合使用散列函数和数组创建了一种被称为散列表 （hash table）的数据结构。\n",
    "散列表是你学习的第一种包含额外逻辑的数据结构。数组和链表都被直接映射到内存，\n",
    "但散列表更复杂，它使用散列函数来确定元素的存储位置。\n",
    "\n",
    "散列表，也被称为散列映射、映射、字典和关联数组\n",
    "'''\n",
    "# 字典\n",
    "voted = {}\n",
    "def check_voter(name):\n",
    "  if voted.get(name):\n",
    "    print(\"kick them out!\")\n",
    "  else:\n",
    "    voted[name] = True\n",
    "    print(\"let them vote!\")\n",
    "\n",
    "check_voter(\"tom\")\n",
    "check_voter(\"mike\")\n",
    "check_voter(\"mike\")\n",
    "check_voter(\"nike\")\n",
    "check_voter(\"tim\")\n",
    "check_voter(\"tom\")"
   ]
  },
  {
   "cell_type": "code",
   "execution_count": 5,
   "metadata": {},
   "outputs": [
    {
     "name": "stdout",
     "output_type": "stream",
     "text": [
      "now is :alice\n",
      "now is :bob\n",
      "now is :claire\n",
      "now is :peggy\n",
      "now is :anuj\n",
      "now is :peggy\n",
      "now is :thom\n",
      "thom is a mango seller!\n"
     ]
    },
    {
     "data": {
      "text/plain": [
       "True"
      ]
     },
     "execution_count": 5,
     "metadata": {},
     "output_type": "execute_result"
    }
   ],
   "source": [
    "# 06_breadth-first_search 广度优先搜索\n",
    "from collections import deque\n",
    "\n",
    "def person_is_seller(name):\n",
    "      return name[-1] == 'm'\n",
    "\n",
    "graph = {}\n",
    "graph[\"you\"] = [\"alice\", \"bob\", \"claire\"]\n",
    "graph[\"bob\"] = [\"anuj\", \"peggy\"]\n",
    "graph[\"alice\"] = [\"peggy\"]\n",
    "graph[\"claire\"] = [\"thom\", \"jonny\"]\n",
    "graph[\"anuj\"] = []\n",
    "graph[\"peggy\"] = []\n",
    "graph[\"thom\"] = []\n",
    "graph[\"jonny\"] = []\n",
    "\n",
    "def search(name):\n",
    "    search_queue = deque()\n",
    "    search_queue += graph[name] # 入队\n",
    "    # This array is how you keep track of which people you've searched before.\n",
    "    searched = [] # 防止双向图，无限检查，即检查一次就标记，不再检查\n",
    "    while search_queue:\n",
    "        person = search_queue.popleft() # 出队:弹出最先进入的\n",
    "        print('now is :' + person)\n",
    "        # Only search this person if you haven't already searched them.\n",
    "        if person not in searched:\n",
    "            if person_is_seller(person):\n",
    "                print(person + \" is a mango seller!\")\n",
    "                return True\n",
    "            else:\n",
    "                search_queue += graph[person] # 入队\n",
    "                # Marks this person as searched\n",
    "                searched.append(person)\n",
    "    return False\n",
    "\n",
    "search(\"you\")"
   ]
  },
  {
   "cell_type": "code",
   "execution_count": 8,
   "metadata": {},
   "outputs": [
    {
     "name": "stdout",
     "output_type": "stream",
     "text": [
      "now lowest_cost_node is:b\n",
      "now lowest_cost_node is:a\n",
      "now lowest_cost_node is:fin\n",
      "Cost from the start to each node:\n",
      "{'a': 5, 'b': 2, 'fin': 6}\n"
     ]
    }
   ],
   "source": [
    "# 07_dijkstras_algorithm：最短路径算法——只适用于有向无环(假设前提：对于处理过的节点，没有前往该节点的更短的路径)\n",
    "'''\n",
    "狄克斯特拉算法包含4个步骤。\n",
    "(1) 找出最便宜的节点(未处理的)，即可在最短时间内前往的节点。\n",
    "(2) 对于该节点的所有邻居，检查是否有前往它们的更短路径，如果有，就更新其开销。\n",
    "\n",
    "(3) 重复(1)(2)，直到对图中的每个节点都这样做了。\n",
    "(4) 计算最终路径。\n",
    "\n",
    "'''\n",
    "# the graph 图\n",
    "graph = {}\n",
    "graph[\"start\"] = {}\n",
    "graph[\"start\"][\"a\"] = 6\n",
    "graph[\"start\"][\"b\"] = 2\n",
    "\n",
    "graph[\"a\"] = {}\n",
    "graph[\"a\"][\"fin\"] = 1\n",
    "\n",
    "graph[\"b\"] = {}\n",
    "graph[\"b\"][\"a\"] = 3\n",
    "graph[\"b\"][\"fin\"] = 5\n",
    "\n",
    "graph[\"fin\"] = {}\n",
    "\n",
    "# the costs table 代价表\n",
    "infinity = float(\"inf\")\n",
    "costs = {}\n",
    "costs[\"a\"] = 6\n",
    "costs[\"b\"] = 2\n",
    "costs[\"fin\"] = infinity\n",
    "\n",
    "# the parents table 父节点表\n",
    "parents = {}\n",
    "parents[\"a\"] = \"start\"\n",
    "parents[\"b\"] = \"start\"\n",
    "parents[\"fin\"] = None\n",
    "\n",
    "processed = [] # 处理的节点\n",
    "\n",
    "# -在未处理的节点中找出开销最小的节点\n",
    "def find_lowest_cost_node(costs):\n",
    "    lowest_cost = float(\"inf\") # 无穷大\n",
    "    lowest_cost_node = None\n",
    "    # Go through each node.\n",
    "    for node in costs:\n",
    "        cost = costs[node]\n",
    "        # If it's the lowest cost so far and hasn't been processed yet...\n",
    "        if cost < lowest_cost and node not in processed:\n",
    "            # ... set it as the new lowest-cost node.\n",
    "            lowest_cost = cost\n",
    "            lowest_cost_node = node\n",
    "    return lowest_cost_node\n",
    "\n",
    "# Find the lowest-cost node that you haven't processed yet.\n",
    "node = find_lowest_cost_node(costs)\n",
    "\n",
    "# If you've processed all the nodes, this while loop is done.\n",
    "while node is not None:\n",
    "    print(\"now lowest_cost_node is:\" + node)\n",
    "    cost = costs[node]\n",
    "    # Go through all the neighbors of this node.\n",
    "    neighbors = graph[node]\n",
    "    for n in neighbors.keys(): # 遍历最近节点的邻居节点,更新cost ？ \n",
    "        new_cost = cost + neighbors[n]\n",
    "        # If it's cheaper to get to this neighbor by going through this node...\n",
    "        if costs[n] > new_cost:\n",
    "            # ... update the cost for this node.\n",
    "            costs[n] = new_cost\n",
    "            # This node becomes the new parent for this neighbor.\n",
    "            parents[n] = node\n",
    "    \n",
    "    # Mark the node as processed.\n",
    "    processed.append(node)\n",
    "    # Find the next node to process, and loop.\n",
    "    node = find_lowest_cost_node(costs)\n",
    "\n",
    "print(\"Cost from the start to each node:\")\n",
    "print(costs)"
   ]
  },
  {
   "cell_type": "code",
   "execution_count": 9,
   "metadata": {},
   "outputs": [
    {
     "name": "stdout",
     "output_type": "stream",
     "text": [
      "{'a': 'b', 'b': 'start', 'fin': 'a'}\n",
      "lowest road is :\n",
      "start\n",
      "b\n",
      "a\n",
      "fin\n"
     ]
    }
   ],
   "source": [
    "print(parents)\n",
    "\n",
    "print(\"lowest road is :\")\n",
    "road = ['fin']\n",
    "node = 'fin'\n",
    "while node is not 'start': # 回溯父节点\n",
    "    road.append(parents[node])\n",
    "    node = parents[node]\n",
    "for i in range(len(road)):\n",
    "    print(road[-1 - i]) "
   ]
  },
  {
   "cell_type": "code",
   "execution_count": null,
   "metadata": {
    "collapsed": true
   },
   "outputs": [],
   "source": []
  }
 ],
 "metadata": {
  "kernelspec": {
   "display_name": "Python 3",
   "language": "python",
   "name": "python3"
  },
  "language_info": {
   "codemirror_mode": {
    "name": "ipython",
    "version": 3
   },
   "file_extension": ".py",
   "mimetype": "text/x-python",
   "name": "python",
   "nbconvert_exporter": "python",
   "pygments_lexer": "ipython3",
   "version": "3.6.3"
  }
 },
 "nbformat": 4,
 "nbformat_minor": 2
}
