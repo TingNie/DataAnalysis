{
 "cells": [
  {
   "cell_type": "code",
   "execution_count": 1,
   "metadata": {},
   "outputs": [
    {
     "name": "stdout",
     "output_type": "stream",
     "text": [
      "{'kfive', 'kone', 'ktwo', 'kthree'}\n"
     ]
    }
   ],
   "source": [
    "# 08_greedy_algorithms：贪婪算法\n",
    "'''\n",
    "选课问题：每次选择 最早结束 的课程\n",
    "\n",
    "背包问题：重量 + 价值\n",
    "\n",
    "集合覆盖问题：覆盖全美50个州的最小广播台集合：穷举法（费时,O(2**n)）——近似算法（贪婪算法，每次选择覆盖了最多的未覆盖的集合，O(n**2)）\n",
    "\n",
    "'''\n",
    "\n",
    "# You pass an array in, and it gets converted to a set.\n",
    "states_needed = set([\"mt\", \"wa\", \"or\", \"id\", \"nv\", \"ut\", \"ca\", \"az\"])\n",
    "\n",
    "stations = {}\n",
    "stations[\"kone\"] = set([\"id\", \"nv\", \"ut\"])\n",
    "stations[\"ktwo\"] = set([\"wa\", \"id\", \"mt\"])\n",
    "stations[\"kthree\"] = set([\"or\", \"nv\", \"ca\"])\n",
    "stations[\"kfour\"] = set([\"nv\", \"ut\"])\n",
    "stations[\"kfive\"] = set([\"ca\", \"az\"])\n",
    "\n",
    "final_stations = set()\n",
    "\n",
    "while states_needed:\n",
    "  best_station = None\n",
    "  states_covered = set() # 临时的覆盖最多的州\n",
    "  for station, states in stations.items():\n",
    "    covered = states_needed & states # 交集\n",
    "    if len(covered) > len(states_covered):\n",
    "      best_station = station\n",
    "      states_covered = covered\n",
    "\n",
    "  states_needed -= states_covered\n",
    "  final_stations.add(best_station)\n",
    "\n",
    "print(final_stations)\n",
    "\n"
   ]
  },
  {
   "cell_type": "code",
   "execution_count": 2,
   "metadata": {
    "collapsed": true
   },
   "outputs": [],
   "source": [
    "'''\n",
    "NP完全问题：以难解著称的问题,Non-deterministic Polynomial的缩写，即多项式复杂程度的非确定性问题.\n",
    "所有可以在多项式时间内求解的判定问题构成P类问题;\n",
    "判定问题是指回答结果输出为Yes或No的问题;\n",
    "多项式时间则是指O(1)、O(logN)、O(N**2)等这类可用多项式表示的时间复杂度，\n",
    "通常我们认为计算机可解决的问题只限于多项式时间内。\n",
    "而O(2**n)、O(n!)这类非多项式级别的问题，其复杂度往往已经到了计算机都接受不了的程度。\n",
    "例如：旅行商问题（O(n!)）\n",
    "\n",
    "识别NP完全问题：\n",
    "\n",
    "1.元素较少时算法的运行速度非常快，但随着元素数量的增加，速度会变得非常慢。\n",
    "\n",
    "2.涉及“所有组合”的问题通常是NP完全问题。\n",
    "\n",
    "3.不能将问题分成小问题，必须考虑各种可能的情况。这可能是NP完全问题。\n",
    "\n",
    "4.如果问题涉及序列（如旅行商问题中的城市序列）且难以解决，它可能就是NP完全问题。\n",
    "\n",
    "5.如果问题涉及集合（如广播台集合）且难以解决，它可能就是NP完全问题。\n",
    "\n",
    "6.如果问题可转换为集合覆盖问题或旅行商问题，那它肯定是NP完全问题\n",
    "\n",
    "\n",
    "'''\n",
    "pass\n"
   ]
  },
  {
   "cell_type": "code",
   "execution_count": 3,
   "metadata": {},
   "outputs": [],
   "source": [
    "# 09_dynamic_programming 动态规划\n",
    "'''\n",
    "动态规划:\n",
    "先解决子问题，再逐步解决大问题：仅当每个子问题都是离散的，即不依赖于其他子问题时，动态规划才管用 \n",
    "\n",
    "动态规划的方案：\n",
    "1.每种动态规划解决方案都涉及网格。\n",
    "\n",
    "2.单元格中的值通常就是你要 优化的值（指标最大化） 。在前面的背包问题中，单元格的值为商品的价值。\n",
    "\n",
    "3.每个单元格都是一个子问题，因此你应考虑如何将问题分成子问题，这有助于你找出网格的坐标轴。\n",
    "\n",
    "\n",
    "\n",
    "背包问题：当前商品装 or 不装\n",
    "cell[i][j] = max( 1.上一个格子的值celi[i - 1][ j ] , 2.当前商品的值 + 剩余空间的价值celi[i - 1][j - 当前商品重量]  )\n",
    "\n",
    "# 最长公共子串\n",
    "if word_a[i] == word_b[j]:\n",
    "  # The letters match.\n",
    "  cell[i][j] = cell[i-1][j-1] + 1\n",
    "else:\n",
    "  # The letters don't match.\n",
    "  cell[i][j] = max(cell[i-1][j], cell[i][j-1])\n",
    "'''\n",
    "pass\n"
   ]
  },
  {
   "cell_type": "code",
   "execution_count": null,
   "metadata": {
    "collapsed": true
   },
   "outputs": [],
   "source": [
    "# 10_knn  K 最近邻算法\n",
    "# 依据K 个邻居（距离近的）的表现\n",
    "\n",
    "\n"
   ]
  },
  {
   "cell_type": "code",
   "execution_count": null,
   "metadata": {
    "collapsed": true
   },
   "outputs": [],
   "source": []
  }
 ],
 "metadata": {
  "kernelspec": {
   "display_name": "Python 3",
   "language": "python",
   "name": "python3"
  },
  "language_info": {
   "codemirror_mode": {
    "name": "ipython",
    "version": 3
   },
   "file_extension": ".py",
   "mimetype": "text/x-python",
   "name": "python",
   "nbconvert_exporter": "python",
   "pygments_lexer": "ipython3",
   "version": "3.6.3"
  }
 },
 "nbformat": 4,
 "nbformat_minor": 2
}
