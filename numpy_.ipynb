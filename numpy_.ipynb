{
 "cells": [
  {
   "cell_type": "code",
   "execution_count": 1,
   "metadata": {
    "collapsed": true
   },
   "outputs": [],
   "source": [
    "import numpy as np"
   ]
  },
  {
   "cell_type": "code",
   "execution_count": 2,
   "metadata": {},
   "outputs": [
    {
     "name": "stdout",
     "output_type": "stream",
     "text": [
      "[0 1 2 3 4 5 6 7 8 9]\n"
     ]
    }
   ],
   "source": [
    "data = np.arange(10)\n",
    "print(data)"
   ]
  },
  {
   "cell_type": "code",
   "execution_count": 3,
   "metadata": {},
   "outputs": [
    {
     "name": "stdout",
     "output_type": "stream",
     "text": [
      "int32\n",
      "(10,)\n",
      "1\n",
      "10\n"
     ]
    }
   ],
   "source": [
    "# 类型,所有元素必须相同\n",
    "print(data.dtype)\n",
    "\n",
    "# shape\n",
    "print(data.shape)\n",
    "\n",
    "# 维度\n",
    "print(data.ndim)\n",
    "\n",
    "# size\n",
    "print(data.size)\n"
   ]
  },
  {
   "cell_type": "code",
   "execution_count": 4,
   "metadata": {},
   "outputs": [
    {
     "name": "stdout",
     "output_type": "stream",
     "text": [
      "[1 2 3]\n",
      "int32\n",
      "[ 1.  2.  3.]\n",
      "float64\n"
     ]
    }
   ],
   "source": [
    "# 数据类型，转化\n",
    "arr1 = np.array([1,2,3],dtype=np.int32)\n",
    "print(arr1)\n",
    "print(arr1.dtype)\n",
    "\n",
    "arr_float = arr1.astype(np.float64)\n",
    "print(arr_float)\n",
    "print(arr_float.dtype)\n",
    "\n"
   ]
  },
  {
   "cell_type": "code",
   "execution_count": 5,
   "metadata": {},
   "outputs": [
    {
     "name": "stdout",
     "output_type": "stream",
     "text": [
      "[0 1 2 3 4 5 6 7 8 9]\n",
      "[100 100 100]\n",
      "[100 100 100   3   4   5   6   7   8   9]\n",
      "[1000 1000 1000]\n",
      "[100 100 100   3   4   5   6   7   8   9]\n"
     ]
    }
   ],
   "source": [
    "# 注意切片是原始数据的视图\n",
    "arr = np.arange(10)\n",
    "print(arr)\n",
    "\n",
    "arr_slice = arr[0:3]\n",
    "arr_slice[:] = 100\n",
    "print(arr_slice)\n",
    "print(arr)\n",
    "\n",
    "# 如果只想要副本，只能显式复制\n",
    "arr_copy = arr[0:3].copy()\n",
    "arr_copy[:] = 1000\n",
    "print(arr_copy)\n",
    "print(arr)"
   ]
  },
  {
   "cell_type": "code",
   "execution_count": 6,
   "metadata": {},
   "outputs": [
    {
     "name": "stdout",
     "output_type": "stream",
     "text": [
      "['a' 'b' 'c' 'd']\n",
      "[[ 0  1  2  3  4]\n",
      " [ 5  6  7  8  9]\n",
      " [10 11 12 13 14]\n",
      " [15 16 17 18 19]]\n"
     ]
    }
   ],
   "source": [
    "# bool索引\n",
    "name = np.array([\"a\",\"b\",\"c\",\"d\"])\n",
    "print(name)\n",
    "number = np.arange(20).reshape((4,5))\n",
    "print(number)\n"
   ]
  },
  {
   "cell_type": "code",
   "execution_count": 7,
   "metadata": {},
   "outputs": [
    {
     "name": "stdout",
     "output_type": "stream",
     "text": [
      "[ True  True False  True]\n",
      "[[ 0]\n",
      " [ 5]\n",
      " [15]]\n"
     ]
    }
   ],
   "source": [
    "mask = (name==\"a\")|(name!=\"c\") # == / != / -(否定) / |(或) / &(和) \n",
    "print(mask)\n",
    "print(number[mask,:1])  "
   ]
  },
  {
   "cell_type": "code",
   "execution_count": 8,
   "metadata": {},
   "outputs": [
    {
     "name": "stdout",
     "output_type": "stream",
     "text": [
      "[[ 0  1  2  3  4]\n",
      " [ 5  6  7  8  9]\n",
      " [10 11 12 13 14]\n",
      " [15 16 17 18 19]]\n",
      "[ 0  3  6  9 12 15 18]\n",
      "[0 0 0 0 0 0 0]\n"
     ]
    }
   ],
   "source": [
    "# 通过bool索引返回的数据是数据的副本\n",
    "print(number)\n",
    "new_number = number[number % 3 == 0]\n",
    "print(new_number)\n",
    "new_number[:]=0 # 数据的副本，修改对原数据不影响\n",
    "print(new_number)\n"
   ]
  },
  {
   "cell_type": "code",
   "execution_count": 9,
   "metadata": {},
   "outputs": [
    {
     "name": "stdout",
     "output_type": "stream",
     "text": [
      "[[ 0.  0.  0.  0.]\n",
      " [ 1.  1.  1.  1.]\n",
      " [ 2.  2.  2.  2.]\n",
      " [ 3.  3.  3.  3.]\n",
      " [ 4.  4.  4.  4.]]\n",
      "[[ 0.  0.  0.  0.]\n",
      " [ 2.  2.  2.  2.]\n",
      " [ 4.  4.  4.  4.]]\n",
      "[ 0.  2.  4.]\n",
      "[[ 0.  0.  0.]\n",
      " [ 2.  2.  2.]\n",
      " [ 4.  4.  4.]]\n"
     ]
    }
   ],
   "source": [
    "# 利用数组进行索引——花式索引\n",
    "\n",
    "arr2 = np.zeros((5,4))\n",
    "for i in range(5):\n",
    "    arr2[i] = i\n",
    "print(arr2)\n",
    "array1 = [0,2,4]\n",
    "array2 = [0,2,3]\n",
    "print(arr2[array1])                  # 第0,2,4行\n",
    "print(arr2[array1,array2])           # 元素(0,0)(2,2)(4,3)\n",
    "print(arr2[np.ix_(array1,array2)])   # 第0,2,4行，第0,2,3列"
   ]
  },
  {
   "cell_type": "code",
   "execution_count": 10,
   "metadata": {},
   "outputs": [
    {
     "name": "stdout",
     "output_type": "stream",
     "text": [
      "[[0 1 2 3 4]\n",
      " [0 1 2 3 4]\n",
      " [0 1 2 3 4]\n",
      " [0 1 2 3 4]\n",
      " [0 1 2 3 4]]\n",
      "[[5 5 5 5 5]\n",
      " [6 6 6 6 6]\n",
      " [7 7 7 7 7]\n",
      " [8 8 8 8 8]\n",
      " [9 9 9 9 9]]\n"
     ]
    }
   ],
   "source": [
    "# 网格数据\n",
    "\n",
    "x = np.arange(0,5)\n",
    "y = np.arange(5,10)\n",
    "xx,yy = np.meshgrid(x,y)\n",
    "print(xx)  # 数据横着不同\n",
    "print(yy)  # 数据竖着不同"
   ]
  },
  {
   "cell_type": "code",
   "execution_count": 11,
   "metadata": {},
   "outputs": [
    {
     "name": "stdout",
     "output_type": "stream",
     "text": [
      "[[ 0  1  2  3  4]\n",
      " [ 5  6  7  8  9]\n",
      " [10 11 12 13 14]]\n",
      "(array([0, 0, 1, 1, 2], dtype=int64), array([0, 3, 1, 4, 2], dtype=int64))\n",
      "[0 0 1 1 2]\n",
      "[0 3 1 4 2]\n",
      "[[ 0  1  2  3  4]\n",
      " [ 5  6  7  8  9]\n",
      " [10 11 12 13 14]]\n",
      "[[100   1   2 100   4]\n",
      " [  5 100   7   8 100]\n",
      " [ 10  11 100  13  14]]\n"
     ]
    }
   ],
   "source": [
    "# where函数\n",
    "\n",
    "wh = np.arange(15).reshape((3,5))\n",
    "print(wh)\n",
    "print(np.where(wh%3==0)) # (0,0)(0,3)(1,1)(1,4)(2,2)\n",
    "print(np.where(wh%3==0)[0])\n",
    "print(np.where(wh%3==0)[1])\n",
    "wh_ = np.where(wh%3==0,100,wh) #只改变符合条件的值\n",
    "print(wh)\n",
    "print(wh_) # 是新的数组，副本\n"
   ]
  },
  {
   "cell_type": "code",
   "execution_count": 12,
   "metadata": {},
   "outputs": [
    {
     "name": "stdout",
     "output_type": "stream",
     "text": [
      "[[ 0.  0.  0.  0.]\n",
      " [ 1.  1.  1.  1.]\n",
      " [ 2.  2.  2.  2.]\n",
      " [ 3.  3.  3.  3.]\n",
      " [ 4.  4.  4.  4.]]\n",
      "[ 10.  10.  10.  10.]\n",
      "[  0.   4.   8.  12.  16.]\n"
     ]
    }
   ],
   "source": [
    "# 数轴axis\n",
    "print(arr2)\n",
    "print(arr2.sum(axis=0)) #axis=0 竖着\n",
    "print(arr2.sum(axis=1)) #axis=1 横着"
   ]
  },
  {
   "cell_type": "code",
   "execution_count": 13,
   "metadata": {},
   "outputs": [
    {
     "name": "stdout",
     "output_type": "stream",
     "text": [
      "[ 0.61954337  0.44446828  0.2720998   0.47191041  0.87689288]\n",
      "[[ 0.45327552  0.70376625]\n",
      " [ 0.01614912  0.13921207]\n",
      " [ 0.16292806  0.93124735]]\n"
     ]
    }
   ],
   "source": [
    "# 随机数\n",
    "# rand()均匀分布\n",
    "# randn()正态分布\n",
    "# 创建一个给定形状的数组，并使用来自[0, 1)的均匀分布的随机样本填充它。\n",
    "print(np.random.rand(5))\n",
    "print(np.random.rand(3,2))\n"
   ]
  },
  {
   "cell_type": "code",
   "execution_count": 14,
   "metadata": {},
   "outputs": [
    {
     "name": "stdout",
     "output_type": "stream",
     "text": [
      "[1 0 1 1 1 0 0 1 1 1]\n",
      "[[2 4]\n",
      " [3 4]\n",
      " [2 4]]\n"
     ]
    }
   ],
   "source": [
    "# randint(low,high=None,size=None)\n",
    "print(np.random.randint(2,size=10))\n",
    "print(np.random.randint(2,5,size=(3,2)))"
   ]
  },
  {
   "cell_type": "code",
   "execution_count": 15,
   "metadata": {
    "collapsed": true
   },
   "outputs": [],
   "source": [
    "# numpy快速入门教程\n",
    "# https://yiyibooks.cn/xx/NumPy_v111/user/quickstart.html"
   ]
  },
  {
   "cell_type": "code",
   "execution_count": null,
   "metadata": {
    "collapsed": true
   },
   "outputs": [],
   "source": []
  }
 ],
 "metadata": {
  "kernelspec": {
   "display_name": "Python 3",
   "language": "python",
   "name": "python3"
  },
  "language_info": {
   "codemirror_mode": {
    "name": "ipython",
    "version": 3
   },
   "file_extension": ".py",
   "mimetype": "text/x-python",
   "name": "python",
   "nbconvert_exporter": "python",
   "pygments_lexer": "ipython3",
   "version": "3.6.3"
  }
 },
 "nbformat": 4,
 "nbformat_minor": 1
}
